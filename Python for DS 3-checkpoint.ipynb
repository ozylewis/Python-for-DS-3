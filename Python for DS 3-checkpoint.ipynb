{
 "cells": [
  {
   "cell_type": "code",
   "execution_count": 9,
   "metadata": {},
   "outputs": [
    {
     "name": "stdout",
     "output_type": "stream",
     "text": [
      "Number ?2.233\n",
      "The absolute value of 2.233 is 2.233\n",
      "110\n"
     ]
    }
   ],
   "source": [
    "n =float(input(\"Number ?\"))\n",
    "\n",
    "if n>=0:\n",
    "    print(\"The absolute value of\",n,\"is\",n)\n",
    "else:\n",
    "    print(\"The absolute value of\",n,\"is\",-n)\n",
    "\n",
    "    sumofnum=50+60\n",
    "print(sumofnum)"
   ]
  },
  {
   "cell_type": "code",
   "execution_count": 3,
   "metadata": {},
   "outputs": [
    {
     "name": "stdout",
     "output_type": "stream",
     "text": [
      "775.978\n",
      "Wow\n"
     ]
    }
   ],
   "source": [
    "a=30\n",
    "b=float(input())\n",
    "if b>a:\n",
    "    print(\"Wow\")\n",
    "else:\n",
    "    print(\"oww\")"
   ]
  },
  {
   "cell_type": "code",
   "execution_count": 4,
   "metadata": {},
   "outputs": [
    {
     "name": "stdout",
     "output_type": "stream",
     "text": [
      "Name = Kiran\n",
      "Kiran\n"
     ]
    }
   ],
   "source": [
    "name=input(\"Name = \")\n",
    "if name==\"Kiran\":\n",
    "    print(name)\n",
    "elif name==\"john\":\n",
    "    print(name)\n",
    "elif name==\"jolly\":\n",
    "    print(name)\n",
    "else:\n",
    "    print(\"not valid name\")"
   ]
  },
  {
   "cell_type": "code",
   "execution_count": 8,
   "metadata": {},
   "outputs": [
    {
     "name": "stdout",
     "output_type": "stream",
     "text": [
      "the name entered is not valid\n"
     ]
    }
   ],
   "source": [
    "name=\"animal\"\n",
    "animalname=\"animal4\"\n",
    "\n",
    "if name==\"animale\":\n",
    "    if animalname==\"animal3\":\n",
    "        print(\"valid animal\")\n",
    "        print(\"Name entered is animal\")\n",
    "    else:\n",
    "        print(\"I have given up\")\n",
    "        print(\"abc\")\n",
    "else:\n",
    "    print(\"the name entered is not valid\")"
   ]
  },
  {
   "cell_type": "code",
   "execution_count": 9,
   "metadata": {},
   "outputs": [
    {
     "name": "stdout",
     "output_type": "stream",
     "text": [
      "0 FIRST PRINT\n",
      "1 second print\n",
      "1 FIRST PRINT\n",
      "2 second print\n",
      "2 FIRST PRINT\n",
      "3 second print\n",
      "3 FIRST PRINT\n",
      "4 second print\n",
      "4 FIRST PRINT\n",
      "5 second print\n"
     ]
    }
   ],
   "source": [
    "a=0\n",
    "while a<5:\n",
    "    print(a,\"FIRST PRINT\")\n",
    "    a=a+1\n",
    "    print(a,\"second print\")"
   ]
  },
  {
   "cell_type": "code",
   "execution_count": 4,
   "metadata": {},
   "outputs": [
    {
     "name": "stdout",
     "output_type": "stream",
     "text": [
      "0 print\n",
      "1 print\n",
      "2 print\n",
      "3 print\n",
      "4 print\n"
     ]
    }
   ],
   "source": [
    "b=0\n",
    "while b<5:\n",
    "    print(b,'print')\n",
    "    b=b+1\n",
    "    #print(b,'2nd print')"
   ]
  },
  {
   "cell_type": "code",
   "execution_count": 12,
   "metadata": {},
   "outputs": [
    {
     "name": "stdout",
     "output_type": "stream",
     "text": [
      "Enter number to add to sum.\n",
      "Enter 0 to Quit\n",
      "curent sum: 0\n",
      "Enter a Number?:4\n",
      "curent sum: 4.0\n",
      "Enter a Number?:5\n",
      "curent sum: 9.0\n",
      "Enter a Number?:0\n",
      "Total Sum= 9.0\n"
     ]
    }
   ],
   "source": [
    "a=1\n",
    "s=0\n",
    "print('Enter number to add to sum.')\n",
    "print('Enter 0 to Quit')\n",
    "while a !=0:\n",
    "    print('curent sum:',s)\n",
    "    a=float(input('Enter a Number?:'))\n",
    "    #s+=a\n",
    "    s=s+a\n",
    "print('Total Sum=',s)"
   ]
  },
  {
   "cell_type": "code",
   "execution_count": 4,
   "metadata": {},
   "outputs": [
    {
     "name": "stdout",
     "output_type": "stream",
     "text": [
      "no:0\n",
      "Total Sum=  0\n"
     ]
    }
   ],
   "source": [
    "b=float(input(\"no:\"))\n",
    "d=0\n",
    "while b!=0:\n",
    "    print('curent sum:',d)\n",
    "    b=float(input('No: '))\n",
    "    d=d+b\n",
    "print('Total Sum= ',d)"
   ]
  },
  {
   "cell_type": "code",
   "execution_count": 8,
   "metadata": {},
   "outputs": [
    {
     "name": "stdout",
     "output_type": "stream",
     "text": [
      "9 target\n",
      "0 Ggguess\n",
      "guess a n00\n",
      "guess a n09\n",
      "Well guesses\n"
     ]
    }
   ],
   "source": [
    "import random\n",
    "target_num,guess_num=random.randint(1,10),0\n",
    "print(target_num,'target')\n",
    "print(guess_num,'Ggguess')\n",
    "while target_num !=guess_num:\n",
    "    guess_num=int(input('guess a n0'))\n",
    "print('Well guesses')\n",
    "    "
   ]
  },
  {
   "cell_type": "code",
   "execution_count": null,
   "metadata": {},
   "outputs": [],
   "source": []
  }
 ],
 "metadata": {
  "kernelspec": {
   "display_name": "Python 3",
   "language": "python",
   "name": "python3"
  },
  "language_info": {
   "codemirror_mode": {
    "name": "ipython",
    "version": 3
   },
   "file_extension": ".py",
   "mimetype": "text/x-python",
   "name": "python",
   "nbconvert_exporter": "python",
   "pygments_lexer": "ipython3",
   "version": "3.7.6"
  }
 },
 "nbformat": 4,
 "nbformat_minor": 4
}
